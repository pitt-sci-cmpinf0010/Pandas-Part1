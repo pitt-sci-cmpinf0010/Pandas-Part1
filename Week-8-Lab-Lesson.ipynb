{
  "cells": [
    {
      "cell_type": "markdown",
      "source": [
        "# Week 8 Lab Lesson\n",
        "\n",
        "## Processing Data with Python, Part 1\n",
        "\n",
        "### Topics\n",
        "\n",
        "* introduction to/motivation of pandas\n",
        "* analyzing real-life data\n",
        "* Series\n",
        "* DataFrames\n",
        "* manipulating DataFrames with Index\n",
        "\n",
        "### Resources\n",
        "\n",
        "For more information, see following books on Python and data analysis:\n",
        "\n",
        "* [The Python Data Science Handbook](https://jakevdp.github.io/PythonDataScienceHandbook/), by Jake VanderPlas. This link is to the entire book in Jupyter notebook form.\n",
        "* [Python for Data Analysis](https://proquest.safaribooksonline.com/9781491957653), by Wes McKinney. This book is available for free through the Pitt library.  \n",
        "\n",
        "### Exercises\n",
        "\n",
        "Back to the normal notebook-of-exercises format for the next few weeks! The exercises for this week build on what we talked about today, and they primarily focus on a set of data about individual Chipotle orders. \n",
        "\n",
        "Your exercises are due on **Sunday 20 October by 11:59pm** (for the Monday sections) or **Tuesday 22 October by 11:59pm** (for the Wednesday sections). Submit your completed Jupyter notebook on Box by the deadline. Don't submit any other files.\n",
        "\n",
        "### Office Hours\n",
        "\nIf you need any help with your assignments, a Python refresher, or any other assistance, email your TA or come by office hours. Office hours are held in the Digital Scholarship Commons, in the back of the ground floor of Hillman. They're Tuesday from 11-12, Tuesday from 4-5, Thursday from 10-12, and Friday from 11-12."
      ],
      "metadata": {}
    },
    {
      "cell_type": "markdown",
      "source": [
        "# So, what is pandas anyway?\n",
        "\n",
        "`pandas` is a third-party Python library for doing data analysis. It's developed and maintained by [Wes McKinney](http://wesmckinney.com/pages/about.html), who at the time of initial development was working in finance. Suffice to say, **pandas is very much beta software**, like JupyterLab. There are going to be some bugs, design flaws, and other issues that you're going to run into; I'll address them as they come up in class, and if you run into them on your own, we can work through them together in office hours.\n",
        "\n",
        "pandas is a foundational part of using Python for data science. Most if not all things that pandas does can be done with plain-jane Python, but, most of the time, pandas does them *faster* and *easier*. It's built on top of another extremely powerful third-party Python library called `numpy`; if you are doing data analysis on a huge scale, consider `numpy`.\n",
        "\n",
        "## Why are *we* using pandas?\n",
        "\n",
        "We're using pandas because it has a powerful set of *structures* and *functions* that make working with large datasets simple. Once you learn these structures and functions, it becomes extremely easy to answer any question you want to ask with a given data set. This is my definition of **data analysis**: answering questions asked of data.\n",
        "\n",
        "pandas also interacts nicely with a bunch of other Python libraries and programs, which make doing data science easier.\n",
        "\n",
        "* Jupyter notebooks, of course, allow you to construct computational narratives with code, data, and text. Displaying dataframes (one of pandas' data structures) as an inline HTML table is one of the major interactions between Jupyter and pandas.\n",
        "* [Matplotlib](https://matplotlib.org/) is an incredibly powerful graphing library for Python. Generating plots from dataframes is simple with matplotlib and pandas.\n",
        "* pandas also integrates with scientific computing/machine learning Python libraries, like [SciKit](http://scikit-learn.org/stable/) and [SciPy](https://www.scipy.org/)."
      ],
      "metadata": {}
    },
    {
      "cell_type": "markdown",
      "source": [
        "# pandas basics\n",
        "\nImporting pandas is simple."
      ],
      "metadata": {}
    },
    {
      "cell_type": "code",
      "source": [
        "import pandas as pd\n",
        "\n%matplotlib inline"
      ],
      "outputs": [],
      "execution_count": null,
      "metadata": {}
    },
    {
      "cell_type": "markdown",
      "source": [
        "You can use the `as` keyword in Python to specify a different name for a library you're importing. Here, I'm telling Python that I'm going to use the term `pd` whenever I want to use pandas functions. It's basically like giving a Python library a nickname.\n",
        "\n",
        "That second line, `%matplotlib inline`, is a specifier within Jupyter for the `matplotlib` library, which, as we already discussed, is for making 2D graphs and charts from data. This specifies that any plots we generate are displayed below the code block, like Jupyter normally does. We'll see this later.\n",
        "\n",
        "## Diving into data\n",
        "\n",
        "We're going to do some stuff with a dataset that I provided for y'all here. It contains information about attendance at various community centers in Pittsburgh. \n",
        "\n",
        "I said at the beginning of this lecture that pandas allows us to ask questions of data and get answers from it. In our analysis, we want to answer the following question of this dataset:\n",
        "\n",
        "&nbsp;&nbsp;&nbsp;&nbsp; **Which community center has had the most attendance over time?**\n",
        "\n**NOTE**: It's important to look at the **comments** in the code we're running through today. I'll be describing what's going on, line by line, by commenting my code. Confused as to what something does? Look at the comments first."
      ],
      "metadata": {}
    },
    {
      "cell_type": "code",
      "source": [
        "# load in the community center data file\n",
        "data = pd.read_csv(\"community-center-attendance-2019.csv\", index_col=\"date\", parse_dates=True)\n",
        "\n",
        "# look at the first ten rows of the data\n",
        "data.head(10)"
      ],
      "outputs": [],
      "execution_count": null,
      "metadata": {}
    },
    {
      "cell_type": "markdown",
      "source": [
        "As you can see, this has the name of the community center and the attendance, all organized in chronological order. Let's see what the attendance values look like over time."
      ],
      "metadata": {}
    },
    {
      "cell_type": "code",
      "source": [
        "# no prizes for guessing what this does\n",
        "data.plot()"
      ],
      "outputs": [],
      "execution_count": null,
      "metadata": {}
    },
    {
      "cell_type": "markdown",
      "source": [
        "We can **pivot** the data so the center names are columns and each row is the number of people attending that community center per day. This is basically rotating the data; it's a common data operation. You'll often hear accountant-types talking about \"pivot tables\" in Excel. This is like that, but way better."
      ],
      "metadata": {}
    },
    {
      "cell_type": "code",
      "source": [
        "# use the pivot function to make row values into data columns\n",
        "data.pivot(columns=\"center_name\", values=\"attendance_count\").head()"
      ],
      "outputs": [],
      "execution_count": null,
      "metadata": {}
    },
    {
      "cell_type": "markdown",
      "source": [
        "That's a little ugly, because whenever there's no attendance data for a center on a given day, the default is `NaN`, or \"not a number\". Thanks, Python. That's really useful.\n",
        "\nMaybe we should consider separating the attendance values for each center. Let's first get a list of how much attendance data we have for each center."
      ],
      "metadata": {}
    },
    {
      "cell_type": "code",
      "source": [
        "# count the number of rows per center\n",
        "data.groupby(\"center_name\").count()"
      ],
      "outputs": [],
      "execution_count": null,
      "metadata": {}
    },
    {
      "cell_type": "markdown",
      "source": [
        "Hm. We don't have a ton of data for quite a few centers, either because they don't report attendance all that often, or they just aren't open all that often. \n",
        "\n",
        "So, we're going to write a function that'll filter out any community center that doesn't have a lot of attendance data. We'll apply that filter to ever row in the dataframe using the [groupby filter function](https://pandas.pydata.org/pandas-docs/stable/generated/pandas.core.groupby.DataFrameGroupBy.filter.html). \n",
        "\nThis is... a little esoteric. What we're doing is using a special type of filter function called a *lambda* that, instead of doing something itself, will apply a function *we write* to each row. **This sounds more complicated than it is.** All we're doing is testing to see if each community center has more than 1000 attendance values; that's our standard."
      ],
      "metadata": {}
    },
    {
      "cell_type": "code",
      "source": [
        "# create a function we will use to perform a filtering operation on the data\n",
        "# filter out centers that have less then 1000 total entries\n",
        "\n",
        "# FUNCTION HERE\n",
        "\n",
        "# use the custom function to filter out rows\n",
        "popular_centers = data.groupby(\"center_name\").filter(<NAME_OF_FILTER_FUNCTION>, \n",
        "                                                     threshold=1000)\n",
        "# look at what centers are in the data now\n",
        "popular_centers.groupby(\"center_name\").count()"
      ],
      "outputs": [],
      "execution_count": null,
      "metadata": {}
    },
    {
      "cell_type": "markdown",
      "source": [
        "That looks better. Now we've got some good data to work with! Let's look at the data again, now that we've filtered it. \n",
        "\n**NOTE**: Part of that above code renames our data. Instead of calling it `data`, like at the beginning, we named our filtered dataset to `popular_centers`."
      ],
      "metadata": {}
    },
    {
      "cell_type": "code",
      "source": [
        "# get the first 5 rows\n",
        "popular_centers.head(5)"
      ],
      "outputs": [],
      "execution_count": null,
      "metadata": {}
    },
    {
      "cell_type": "code",
      "source": [
        "# plot it\n",
        "popular_centers.plot()"
      ],
      "outputs": [],
      "execution_count": null,
      "metadata": {}
    },
    {
      "cell_type": "markdown",
      "source": [
        "This plot... isn't great. It just doesn't do a great job at displaying anything useful. Let's try pivoting again, now that we've eliminated some of the sparser columns. "
      ],
      "metadata": {}
    },
    {
      "cell_type": "code",
      "source": [
        "# use the pivot function to make rows into columns with only the popular community centers\n",
        "pivoted_data = popular_centers.pivot(columns=\"center_name\", values=\"attendance_count\")\n",
        "pivoted_data.head()"
      ],
      "outputs": [],
      "execution_count": null,
      "metadata": {}
    },
    {
      "cell_type": "markdown",
      "source": [
        "Not nearly as bad as before! Now, we can plot the attendance over time of individual community centers."
      ],
      "metadata": {}
    },
    {
      "cell_type": "code",
      "source": [
        "# plot the data! \n",
        "pivoted_data.plot(figsize=(10,10))"
      ],
      "outputs": [],
      "execution_count": null,
      "metadata": {}
    },
    {
      "cell_type": "markdown",
      "source": [
        "Pretty messy, but definitely better. Now, let's calculate the **cumulative sum**, a measure that will add up attendance over time. This can give us both attendance values *and* a general sense of how they're changing over time."
      ],
      "metadata": {}
    },
    {
      "cell_type": "code",
      "source": [
        "# compute the cumulative sum for every column and make a chart\n",
        "pivoted_data.cumsum().plot(figsize=(10,10))"
      ],
      "outputs": [],
      "execution_count": null,
      "metadata": {}
    },
    {
      "cell_type": "markdown",
      "source": [
        "Brookline seems to be the winner, but attendance isn't growing as it has been in the past. Let's look at month-by-month attendance."
      ],
      "metadata": {}
    },
    {
      "cell_type": "code",
      "source": [
        "# resample and compute the monthly totals for the popular community centers\n",
        "pivoted_data.resample(\"M\").sum().plot(figsize=(10,10))"
      ],
      "outputs": [],
      "execution_count": null,
      "metadata": {}
    },
    {
      "cell_type": "markdown",
      "source": [
        "Hmm, that's way too much noise. Let's plot it by year, instead. That's as simple as changing the `M` to a `Y`."
      ],
      "metadata": {}
    },
    {
      "cell_type": "code",
      "source": [
        "# resample and compute the yearly totals for the popular community centers\n",
        "pivoted_data.resample(\"Y\").sum().plot(figsize=(10,10))"
      ],
      "outputs": [],
      "execution_count": null,
      "metadata": {}
    },
    {
      "cell_type": "markdown",
      "source": [
        "And now, hey presto, we've turned this unwieldy, huge dataset into something that we can use to answer questions. "
      ],
      "metadata": {}
    },
    {
      "cell_type": "markdown",
      "source": [
        "# Let's talk data structures\n",
        "\n",
        "The major thing that pandas brings to Python is three new data structures: the Series, the Dataframe, and the Index. \n",
        "\n",
        "## Series: a list, but a dictionary\n",
        "\n",
        "A series is a *one-dimensional array* of *indexed* data. Let's break that down.\n",
        "\n",
        "* **one-dimensional**: only one column of data\n",
        "* **array**: a contiguous representation of the data (i.e. data[2] comes after data[1])\n",
        "* **indexed**: the data has indices that you use to access the data. These can be numbers or other, more complicated keys.\n",
        "\nHere's a default, empty Series. What do you get when you run that? What about if you take the `type()` of it?"
      ],
      "metadata": {}
    },
    {
      "cell_type": "code",
      "source": [
        "pd.Series()"
      ],
      "outputs": [],
      "execution_count": null,
      "metadata": {}
    },
    {
      "cell_type": "markdown",
      "source": [
        "You can create a Series from a single Python list. When you do that, the indices are just numbers, starting from 0."
      ],
      "metadata": {}
    },
    {
      "cell_type": "code",
      "source": [
        "# create a regular Python list\n",
        "my_list = [0.25, 0.5, 0.75, 1.0]\n",
        "\n",
        "# transform that list into a Series\n",
        "data = pd.Series(my_list)\n",
        "\n",
        "# display the data in the series\n",
        "data"
      ],
      "outputs": [],
      "execution_count": null,
      "metadata": {}
    },
    {
      "cell_type": "markdown",
      "source": [
        "A Series is kind of like a list, in that *order matters*. The first element will always be before the second element, and so on. You can use indexing to grab an item in a series, like so:"
      ],
      "metadata": {}
    },
    {
      "cell_type": "code",
      "source": [
        "# get the first item in the series\n",
        "data[0]"
      ],
      "outputs": [],
      "execution_count": null,
      "metadata": {}
    },
    {
      "cell_type": "markdown",
      "source": [
        "pandas makes this way more powerful and a little harder with the `.iloc` function. You can use `.iloc` to index a Series. This is the idiomatic \"pandas-y\" way to do it."
      ],
      "metadata": {}
    },
    {
      "cell_type": "code",
      "source": [
        "# get the first item, but pandas-y, with iloc\n",
        "data.iloc[0]"
      ],
      "outputs": [],
      "execution_count": null,
      "metadata": {}
    },
    {
      "cell_type": "code",
      "source": [
        "# go crazy, grab the fourth element\n",
        "data.iloc[3]"
      ],
      "outputs": [],
      "execution_count": null,
      "metadata": {}
    },
    {
      "cell_type": "markdown",
      "source": [
        "All of the normal Python indexing styles work with `.iloc`. You can use *slicing* to grab certain sub-lists within a Series."
      ],
      "metadata": {}
    },
    {
      "cell_type": "code",
      "source": [
        "# get the first two elements\n",
        "data.iloc[0:2]"
      ],
      "outputs": [],
      "execution_count": null,
      "metadata": {}
    },
    {
      "cell_type": "code",
      "source": [
        "# get the last two elements\n",
        "data.iloc[2:]"
      ],
      "outputs": [],
      "execution_count": null,
      "metadata": {}
    },
    {
      "cell_type": "markdown",
      "source": [
        "### Alternate indices\n",
        "\nYou can also think of a Series as a Python dictionary. The main difference is that **order matters in a Series**. You can grab things by their name, in addition to their numerical index, and you can generate a Series from a dictionary."
      ],
      "metadata": {}
    },
    {
      "cell_type": "code",
      "source": [
        "# create a regular Python Dictionary\n",
        "population_dict = {'California': 38332521,\n",
        "                   'Texas': 26448193,\n",
        "                   'New York': 19651127,\n",
        "                   'Florida': 19552860,\n",
        "                   'Illinois': 12882135}\n",
        "\n",
        "# make that dictionary into a Series \n",
        "population = pd.Series(population_dict)\n",
        "\n",
        "# display the data\n",
        "population"
      ],
      "outputs": [],
      "execution_count": null,
      "metadata": {}
    },
    {
      "cell_type": "markdown",
      "source": [
        "You can also make a named Series from two independent Python lists."
      ],
      "metadata": {}
    },
    {
      "cell_type": "code",
      "source": [
        "# create two ordered lists\n",
        "population_list = [38332521, 26448193, 19651127, 19552860, 12882135]\n",
        "states = ['California', 'Texas', 'New York', 'Florida', 'Illinois']\n",
        "\n",
        "# Create a Series from those two lists\n",
        "population = pd.Series(population_list, index=states)\n",
        "\n",
        "# display the data\n",
        "population"
      ],
      "outputs": [],
      "execution_count": null,
      "metadata": {}
    },
    {
      "cell_type": "markdown",
      "source": [
        "You can index and slice, just like we did before, but you can use the keys instead of the numbers! You use the `.loc` method, which just stands for \"location\", to access items from their named keys."
      ],
      "metadata": {}
    },
    {
      "cell_type": "code",
      "source": [
        "# select the data value with the name \"California\"\n",
        "population.loc['California']"
      ],
      "outputs": [],
      "execution_count": null,
      "metadata": {}
    },
    {
      "cell_type": "markdown",
      "source": [
        "You can do slicing with these keys, too!"
      ],
      "metadata": {}
    },
    {
      "cell_type": "code",
      "source": [
        "population.loc['Texas':'Florida']"
      ],
      "outputs": [],
      "execution_count": null,
      "metadata": {}
    },
    {
      "cell_type": "markdown",
      "source": [
        "----"
      ],
      "metadata": {}
    },
    {
      "cell_type": "markdown",
      "source": [
        "### **Group Assignment**: some indexing questions\n",
        "\n",
        "Answer the following questions concerning `.iloc`, `.loc` and Series indexing with pandas.\n",
        "\n",
        "1. Make a pandas Series from a Python list that contains the following numbers: `[0.1, 0.3, 0.75, 1.2, 1.6]`\n",
        "2. Use `iloc` and slices to grab the second and third elements of your Series.\n",
        "3. Grab the last element of your Series.\n",
        "4. **As a challenge**, grab the last element of your Series without using the length of the list. You can't use slicing or just say `iloc[4]`. There's a way to do it, search around. (Hint: think small.)\n",
        "5. Create another Series from the following dictionary:\n",
        "    ```\n",
        "    {'Aaron': 65,\n",
        "     'Lauren': 24,\n",
        "     'Joseph': 49,\n",
        "     'Mallory': 32,\n",
        "     'Eric': 19,\n",
        "     'Jeff': 84}\n",
        "     ```\n",
        "6. Print out Lauren's age, using the `.loc` method.\n",
        "7. Print out the elements between Joseph and Jeff using `.loc`.\n",
        "8. Do the same thing, but with numerical slicing using `.iloc`."
      ],
      "metadata": {}
    },
    {
      "cell_type": "code",
      "source": [],
      "outputs": [],
      "execution_count": null,
      "metadata": {}
    },
    {
      "cell_type": "markdown",
      "source": [
        "----"
      ],
      "metadata": {}
    },
    {
      "cell_type": "markdown",
      "source": [
        "# Dataframe: adding a dimension\n",
        "\n",
        "A pandas DataFrame is the main way to display and manipulate data with pandas. You're going to be suuuuuper familiar with DataFrames by the time we're done here. \n",
        "\nA DataFrame is just a two-dimensional Series. It's like a table, or an Excel spreadsheet. Functionally, it's a Series-of-Serieses, a bunch of Series lined up together."
      ],
      "metadata": {}
    },
    {
      "cell_type": "code",
      "source": [
        "# remember our population Series?\n",
        "population"
      ],
      "outputs": [],
      "execution_count": null,
      "metadata": {}
    },
    {
      "cell_type": "code",
      "source": [
        "# let's make one for the areas, too!\n",
        "area_dict = {'Illinois': 149995, 'California': 423967, \n",
        "             'Texas': 695662, 'Florida': 170312, \n",
        "             'New York': 141297}\n",
        "area = pd.Series(area_dict)\n",
        "area"
      ],
      "outputs": [],
      "execution_count": null,
      "metadata": {}
    },
    {
      "cell_type": "code",
      "source": [
        "# now, we create a dictionary containing both of our dictionaries\n",
        "# meta, huh?\n",
        "state_info_dictionary = {'population': population,\n",
        "                       'area': area}\n",
        "\n",
        "# then we mash them together into a DataFrame\n",
        "states = pd.DataFrame(state_info_dictionary)\n",
        "# let's check our work!\n",
        "states"
      ],
      "outputs": [],
      "execution_count": null,
      "metadata": {}
    },
    {
      "cell_type": "markdown",
      "source": [
        "pandas just takes care of lining everything up, because our indices (state names) are the same across our two dictionaries!\n",
        "\nYou can also generate a DataFrame from a list of dictionaries, and from a list of lists."
      ],
      "metadata": {}
    },
    {
      "cell_type": "code",
      "source": [
        "# create a list of dictionaries that contain our data.\n",
        "# one dictionary per observation/row\n",
        "dead_people = [\n",
        "    {\"ssn\":1, \"first_name\": \"Bob\", \"last_name\": \"Jones\", \"age\": 200},\n",
        "    {\"ssn\":2, \"first_name\": \"Jane\", \"last_name\": \"Jones\", \"age\": 199},\n",
        "    {\"ssn\":3, \"first_name\": \"Ethel\", \"last_name\": \"Jones\", \"age\": 180},\n",
        "    {\"ssn\":4, \"first_name\": \"Hortense\", \"last_name\": \"Jones\", \"age\": 178},\n",
        "    {\"ssn\":5, \"first_name\": \"Vern\", \"last_name\": \"Jones\", \"age\": 178}\n",
        "]\n",
        "\n",
        "# create a DataFrame from a list of dictionaries\n",
        "pd.DataFrame(dead_people)"
      ],
      "outputs": [],
      "execution_count": null,
      "metadata": {}
    },
    {
      "cell_type": "markdown",
      "source": [
        "If you create a DataFrame from a list of lists, you can either specify the row indices, or it'll automatically number them, starting at 0."
      ],
      "metadata": {}
    },
    {
      "cell_type": "code",
      "source": [
        "# auto-number the rows\n",
        "\n",
        "# create a list of lists, each sub-list is an observation/row\n",
        "dead_people = [\n",
        "    [1,\"Bob\",\"Jones\",200],\n",
        "    [2,\"Jane\",\"Jones\",199],\n",
        "    [3,\"Ethel\",\"Jones\",180],\n",
        "    [4,\"Hortense\",\"Jones\",178],\n",
        "    [5,\"Vern\",\"Jones\",178]\n",
        "]\n",
        "\n",
        "# specify the column names separately\n",
        "column_names = [\"ssn\",\"first_name\", \"last_name\", \"age\"]\n",
        "\n",
        "# make a DataFrame with column names specified separately\n",
        "pd.DataFrame(dead_people, columns=column_names)"
      ],
      "outputs": [],
      "execution_count": null,
      "metadata": {}
    },
    {
      "cell_type": "code",
      "source": [
        "# specify the row indices\n",
        "\n",
        "# create a list of lists, each sub-list is an observation/row\n",
        "dead_people = [\n",
        "    [1,\"Bob\",\"Jones\",200],\n",
        "    [2,\"Jane\",\"Jones\",199],\n",
        "    [3,\"Ethel\",\"Jones\",180],\n",
        "    [4,\"Hortense\",\"Jones\",178],\n",
        "    [5,\"Vern\",\"Jones\",178]\n",
        "]\n",
        "\n",
        "# specify the column names separately\n",
        "column_names = [\"ssn\",\"first_name\", \"last_name\", \"age\"]\n",
        "\n",
        "row_ids = [123,3452,3235,4345,563463]\n",
        "\n",
        "# make a DataFrame with column names specified separately\n",
        "dead_dataframe = pd.DataFrame(dead_people, columns=column_names, index=row_ids)\n",
        "dead_dataframe"
      ],
      "outputs": [],
      "execution_count": null,
      "metadata": {}
    },
    {
      "cell_type": "markdown",
      "source": [
        "# Index and DataFrame slicing\n",
        "\n",
        "In pandas, the Series and the DataFrame are both containers for data; they store information. The Index is what makes that data useful.\n",
        "\n",
        "* In a Series, the Index is the key to each value in the list.\n",
        "* In a DataFrame, the index is the column name. There is also an index for each row.\n",
        "\nYou can use indexing to merge otherwise disparate datasets. Remember our list of states?"
      ],
      "metadata": {}
    },
    {
      "cell_type": "code",
      "source": [
        "states"
      ],
      "outputs": [],
      "execution_count": null,
      "metadata": {}
    },
    {
      "cell_type": "markdown",
      "source": [
        "You can also access the column and row labels, programmatically, using the `.columns` and `.index` functions. "
      ],
      "metadata": {}
    },
    {
      "cell_type": "code",
      "source": [
        "# get the column labels as a list-like data structure\n",
        "states.columns"
      ],
      "outputs": [],
      "execution_count": null,
      "metadata": {}
    },
    {
      "cell_type": "code",
      "source": [
        "# get the row labels as a list-like data structure\n",
        "states.index"
      ],
      "outputs": [],
      "execution_count": null,
      "metadata": {}
    },
    {
      "cell_type": "markdown",
      "source": [
        "We can use `.loc` and `.iloc`, and indexing, on DataFrames too! `.loc` lets us select specific rows and columns by their name. The syntax for indexing a DataFrame is `[ROW, COLUMN]`, where `ROW` and `COLUMN` are the index values."
      ],
      "metadata": {}
    },
    {
      "cell_type": "code",
      "source": [
        "# let's get Illinois' population\n",
        "states.loc[\"Illinois\", \"population\"]"
      ],
      "outputs": [],
      "execution_count": null,
      "metadata": {}
    },
    {
      "cell_type": "code",
      "source": [],
      "outputs": [],
      "execution_count": null,
      "metadata": {}
    },
    {
      "cell_type": "markdown",
      "source": [
        "This can get really powerful, really quickly. \n",
        "\nYou can use slicing within a row or column when indexing a DataFrame; this includes the `:` operator, which selects all indices. You can also use a list in place of a row or column to select all items on that list from the DataFrame."
      ],
      "metadata": {}
    },
    {
      "cell_type": "code",
      "source": [
        "# two-dimensional slicing\n",
        "\n",
        "# get the area for states from Florida to Texas\n",
        "states.loc[\"Florida\":\"Texas\", \"area\"]"
      ],
      "outputs": [],
      "execution_count": null,
      "metadata": {}
    },
    {
      "cell_type": "code",
      "source": [
        "# using a list to select values\n",
        "\n",
        "# get the area for Florida and Texas\n",
        "states.loc[[\"Florida\", \"Texas\"], \"area\"]"
      ],
      "outputs": [],
      "execution_count": null,
      "metadata": {}
    },
    {
      "cell_type": "code",
      "source": [
        "# use a \":\" to specify \"all columns\"\n",
        "\n",
        "# get area and population for Florida and Texas\n",
        "states.loc[[\"Florida\", \"Texas\"], :]"
      ],
      "outputs": [],
      "execution_count": null,
      "metadata": {}
    },
    {
      "cell_type": "code",
      "source": [
        "# select all the rows and columns\n",
        "states.loc[:,:]"
      ],
      "outputs": [],
      "execution_count": null,
      "metadata": {}
    },
    {
      "cell_type": "markdown",
      "source": [
        "And this all works for `.iloc`, too."
      ],
      "metadata": {}
    },
    {
      "cell_type": "code",
      "source": [
        "# two-dimensional slicing\n",
        "\n",
        "# get the area for states from Florida to Texas\n",
        "states.iloc[1:, 1]"
      ],
      "outputs": [],
      "execution_count": null,
      "metadata": {}
    },
    {
      "cell_type": "code",
      "source": [
        "# using a list to select values\n",
        "\n",
        "# get the area for Florida and Texas\n",
        "states.iloc[[1, 4], 1]"
      ],
      "outputs": [],
      "execution_count": null,
      "metadata": {}
    },
    {
      "cell_type": "code",
      "source": [
        "# using a list with -1 index to select values to the end\n",
        "\n",
        "# get the area for Florida and Texas\n",
        "states.iloc[[1, -1], 1]"
      ],
      "outputs": [],
      "execution_count": null,
      "metadata": {}
    },
    {
      "cell_type": "code",
      "source": [
        "# using a \":\" to specify \"all columns\"\n",
        "\n",
        "# get area and population for Florida and Texas\n",
        "states.iloc[[1, -1], :]"
      ],
      "outputs": [],
      "execution_count": null,
      "metadata": {}
    },
    {
      "cell_type": "markdown",
      "source": [
        "# The end!\n",
        "\nThat's it for today! There's a bit more slicing in your lab exercises for the week, and some more serious data analysis as well. Any questions before we begin?"
      ],
      "metadata": {}
    }
  ],
  "metadata": {
    "kernelspec": {
      "display_name": "Python 3",
      "language": "python",
      "name": "python3"
    },
    "language_info": {
      "codemirror_mode": {
        "name": "ipython",
        "version": 3
      },
      "file_extension": ".py",
      "mimetype": "text/x-python",
      "name": "python",
      "nbconvert_exporter": "python",
      "pygments_lexer": "ipython3",
      "version": "3.6.5"
    },
    "nteract": {
      "version": "0.12.3"
    }
  },
  "nbformat": 4,
  "nbformat_minor": 2
}
