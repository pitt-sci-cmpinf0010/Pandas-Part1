{
 "cells": [
  {
   "cell_type": "markdown",
   "metadata": {},
   "source": [
    "# Week 8 Lab Exercises\n",
    "\n",
    "## Processing Data with Python, Part 1\n",
    "\n",
    "Your exercises are due on **Friday 6 March by 11:59pm**.\n",
    "\n",
    "Submit your completed Jupyter notebook on Box. You don't need to submit any other files, I have them. :D\n",
    "\n",
    "### Questions/Office Hours\n",
    "\n",
    "If you have questions about this week's lab or lecture, our office hours are as in the readme."
   ]
  },
  {
   "cell_type": "markdown",
   "metadata": {},
   "source": [
    "----"
   ]
  },
  {
   "cell_type": "markdown",
   "metadata": {},
   "source": [
    "## Exercises\n",
    "\n",
    "The exercises for this week are varied, but some deal with `chipotle.tsv`, a dataset concerning Chipotle orders. If you run into any trouble, you may find the texts for this section of the course helpful:\n",
    "\n",
    "* [The Python Data Science Handbook](https://jakevdp.github.io/PythonDataScienceHandbook/), by Jake VanderPlas, or\n",
    "* [Python for Data Analysis](https://proquest.safaribooksonline.com/9781491957653), by Wes McKinney.\n",
    "\n",
    "Oh yeah, and let's import pandas for this notebook."
   ]
  },
  {
   "cell_type": "code",
   "execution_count": 3,
   "metadata": {},
   "outputs": [],
   "source": [
    "import pandas as pd"
   ]
  },
  {
   "cell_type": "markdown",
   "metadata": {},
   "source": [
    "----"
   ]
  },
  {
   "cell_type": "markdown",
   "metadata": {},
   "source": [
    "#### **Exercise 1**\n",
    "\n",
    "Using the `iloc` and slicing syntax, slice the following dataframe based on the highlighted blocks in the image. \n",
    "\n",
    "First, think of the slicing syntax to grab just the rows you want. Then, think of the slicing syntax for the columns you want. \n",
    "\n",
    "Put the row slices *before* the comma and the column slices *after* the comma."
   ]
  },
  {
   "cell_type": "code",
   "execution_count": null,
   "metadata": {},
   "outputs": [],
   "source": [
    "# here's our DataFrame\n",
    "indexing_example = pd.DataFrame([[1,2,3],[4,5,6],[7,8,9]])\n",
    "indexing_example"
   ]
  },
  {
   "cell_type": "markdown",
   "metadata": {},
   "source": [
    "Select the second two columns of the first two rows.  \n",
    "\n",
    "![first slice exercise](img/indexing1.png)  "
   ]
  },
  {
   "cell_type": "code",
   "execution_count": null,
   "metadata": {},
   "outputs": [],
   "source": [
    "# put the slicing syntax in your answer here\n",
    "indexing_example.iloc[???]"
   ]
  },
  {
   "cell_type": "markdown",
   "metadata": {},
   "source": [
    "Select the third row.\n",
    "\n",
    "![first slice exercise](img/indexing2.png)"
   ]
  },
  {
   "cell_type": "code",
   "execution_count": null,
   "metadata": {},
   "outputs": [],
   "source": [
    "# your answer here!\n",
    "indexing_example.iloc[???]"
   ]
  },
  {
   "cell_type": "markdown",
   "metadata": {},
   "source": [
    "Select the first two columns.\n",
    "\n",
    "![first slice exercise](img/indexing3.png)"
   ]
  },
  {
   "cell_type": "code",
   "execution_count": null,
   "metadata": {},
   "outputs": [],
   "source": [
    "# your answer here!\n",
    "indexing_example.iloc[???]"
   ]
  },
  {
   "cell_type": "markdown",
   "metadata": {},
   "source": [
    "Select the first two columns of the second row.\n",
    "\n",
    "![first slice exercise](img/indexing4.png)"
   ]
  },
  {
   "cell_type": "code",
   "execution_count": null,
   "metadata": {},
   "outputs": [],
   "source": [
    "# your answer here!\n",
    "indexing_example.iloc[???]"
   ]
  },
  {
   "cell_type": "markdown",
   "metadata": {},
   "source": [
    "#### **Exercise 2**\n",
    "\n",
    "You're going to be working with Chipotle data from here on out. The data is in a file called `chipotle.tsv`. Since this is a tab-separated file (not a CSV, which uses commas), you'll have to specify `sep='\\t'` on your read function.\n",
    "\n",
    "Import your dataset from `chipotle.tsv` and assign it to a variable called `chip`. Then, view the first 10 entries in your new DataFrame."
   ]
  },
  {
   "cell_type": "code",
   "execution_count": null,
   "metadata": {},
   "outputs": [],
   "source": []
  },
  {
   "cell_type": "markdown",
   "metadata": {},
   "source": [
    "#### **Exercise 3**\n",
    "\n",
    "Print the total number of observations in the DataFrame. There are a number of ways you can do this, but the value will be how many individual things were ordered at Chipotle."
   ]
  },
  {
   "cell_type": "code",
   "execution_count": null,
   "metadata": {},
   "outputs": [],
   "source": []
  },
  {
   "cell_type": "markdown",
   "metadata": {},
   "source": [
    "#### **Exercise 4**\n",
    "\n",
    "Print the number of columns in the DataFrame, and then print the names of all columns in the DataFrame. This will give you a guide to how the DataFrame is indexed."
   ]
  },
  {
   "cell_type": "code",
   "execution_count": null,
   "metadata": {},
   "outputs": [],
   "source": []
  },
  {
   "cell_type": "markdown",
   "metadata": {},
   "source": [
    "#### **Exercise 5**\n",
    "\n",
    "Calculate, for each order number, how much the order costs. \n",
    "\n",
    "In other words, you're going to iterate through the DataFrame and, for each order number, add up the `item_price * quantity` for each item in the order. \n",
    "\n",
    "Store the order prices in a list. Then, tell me how much the 100th, 500th, and 1000th order cost. "
   ]
  },
  {
   "cell_type": "code",
   "execution_count": null,
   "metadata": {},
   "outputs": [],
   "source": []
  },
  {
   "cell_type": "markdown",
   "metadata": {},
   "source": [
    "#### **Exercise 6**\n",
    "\n",
    "Using a filter function, drop every row where only one item was ordered. In other words, if `quantity > 1`, keep the row. If not, drop the row. \n",
    "\n",
    "Then, print the first ten items in the new DataFrame.\n",
    "\n",
    "Hint: this is very similar to the filter we wrote when dealing with community center attendance."
   ]
  },
  {
   "cell_type": "code",
   "execution_count": null,
   "metadata": {},
   "outputs": [],
   "source": []
  },
  {
   "cell_type": "markdown",
   "metadata": {},
   "source": [
    "#### **Exercise 7**: EXTRA CREDIT\n",
    "\n",
    "This assignment is extra credit! Check out the Python for Everyone's section on [dictionaries](https://www.py4e.com/html3/09-dictionaries) if you're confused.\n",
    "\n",
    "Make a new dictionary. Then, iterate through the DataFrame. For each `item_name`, do the following:\n",
    "\n",
    "* if `dict[item_name]` exists, add `quantity` to it;\n",
    "* if not, set `dict[item_name]` to `quantity`;\n",
    "\n",
    "You're essentially counting the number of times that a given item has been ordered."
   ]
  },
  {
   "cell_type": "code",
   "execution_count": null,
   "metadata": {},
   "outputs": [],
   "source": []
  }
 ],
 "metadata": {
  "kernelspec": {
   "display_name": "Python 3",
   "language": "python",
   "name": "python3"
  },
  "language_info": {
   "codemirror_mode": {
    "name": "ipython",
    "version": 3
   },
   "file_extension": ".py",
   "mimetype": "text/x-python",
   "name": "python",
   "nbconvert_exporter": "python",
   "pygments_lexer": "ipython3",
   "version": "3.6.7"
  }
 },
 "nbformat": 4,
 "nbformat_minor": 4
}
